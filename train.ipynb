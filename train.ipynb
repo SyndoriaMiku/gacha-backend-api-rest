{
 "cells": [
  {
   "cell_type": "code",
   "execution_count": 2,
   "id": "ca3f9fbd-1e4e-408f-850e-9598b058840d",
   "metadata": {},
   "outputs": [
    {
     "name": "stdout",
     "output_type": "stream",
     "text": [
      "1-ineffacitlali.csv loaded as character banner\n",
      "1-laumanahida.csv loaded as character banner\n",
      "1-mualainichasca.csv loaded as character banner\n",
      "Epoch 100: loss=0.0128, mae=0.0527\n",
      "Epoch 200: loss=0.0104, mae=0.0365\n",
      "Epoch 300: loss=0.0101, mae=0.0332\n"
     ]
    }
   ],
   "source": [
    "import pandas as pd\n",
    "import numpy as np\n",
    "import glob, os\n",
    "import tensorflow as tf\n",
    "from tensorflow.keras.models import Model\n",
    "from tensorflow.keras.layers import Input, Embedding, Dense, Concatenate, Flatten\n",
    "from tensorflow.keras.callbacks import Callback\n",
    "\n",
    "class PrintEveryN(Callback):\n",
    "    def __init__(self, N=100):\n",
    "        super().__init__()\n",
    "        self.N = N\n",
    "\n",
    "    def on_epoch_end(self, epoch, logs=None):\n",
    "        if (epoch + 1) % self.N == 0:\n",
    "            print(f\"Epoch {epoch+1}: loss={logs['loss']:.4f}, mae={logs['mae']:.4f}\")\n",
    "\n",
    "# --- Load multiple CSV files ---\n",
    "files = glob.glob(\"data/*.csv\")  # lấy tất cả csv trong thư mục hiện tại\n",
    "dfs = []\n",
    "for f in files:\n",
    "    df = pd.read_csv(f)\n",
    "\n",
    "    # đảm bảo tên cột chuẩn hóa\n",
    "    df = df.rename(columns={\n",
    "        \"countEachPity\": \"total_rolls\",\n",
    "        \"pityCount\": \"golden_hits\"\n",
    "    })\n",
    "\n",
    "    prefix = os.path.basename(f).split(\"-\")[0]\n",
    "    banner_type = int(prefix)\n",
    "    max_roll = 90 if banner_type == 1 else 80\n",
    "    banner_label = \"character\" if banner_type == 1 else \"weapon\"\n",
    "\n",
    "    print(f\"{os.path.basename(f)} loaded as {banner_label} banner\")\n",
    "\n",
    "    # tính tỷ lệ chance\n",
    "    df[\"local_prob\"] = df.apply(\n",
    "        lambda r: r[\"golden_hits\"] / r[\"total_rolls\"] if r[\"total_rolls\"] > 0 else 0,\n",
    "        axis=1\n",
    "    )\n",
    "\n",
    "    df[\"banner_type\"] = banner_type\n",
    "    df[\"max_roll\"] = max_roll\n",
    "    dfs.append(df)\n",
    "\n",
    "data = pd.concat(dfs, ignore_index=True)\n",
    "\n",
    "# --- Features ---\n",
    "X_roll = (data[\"roll\"] / data[\"max_roll\"]).values\n",
    "X_banner = data[\"banner_type\"].values\n",
    "y = data[\"local_prob\"].values\n",
    "sample_weight = data[\"golden_hits\"].values  # số lượt nổ vàng dùng làm weight\n",
    "\n",
    "# --- Build model ---\n",
    "roll_input = Input(shape=(1,), name=\"roll_input\")\n",
    "banner_input = Input(shape=(1,), name=\"banner_input\")\n",
    "\n",
    "banner_emb = Embedding(input_dim=3, output_dim=2)(banner_input)\n",
    "banner_emb = Flatten()(banner_emb)\n",
    "\n",
    "x = Concatenate()([roll_input, banner_emb])\n",
    "x = Dense(32, activation=\"relu\")(x)\n",
    "x = Dense(16, activation=\"relu\")(x)\n",
    "output = Dense(1, activation=\"sigmoid\")(x)  # local p_i\n",
    "\n",
    "model = Model(inputs=[roll_input, banner_input], outputs=output)\n",
    "model.compile(optimizer=\"adam\", loss=\"mse\", metrics=[\"mae\"])\n",
    "\n",
    "# Train\n",
    "model.fit([X_roll, X_banner], y,\n",
    "          epochs=300, batch_size=32, verbose=0,\n",
    "          callbacks=[PrintEveryN(100)])\n",
    "\n",
    "# Save model\n",
    "model.save(\"gacha_model.keras\")\n"
   ]
  },
  {
   "cell_type": "code",
   "execution_count": 3,
   "id": "80cc85b3-e249-45a6-b91e-4cb7e05a0e69",
   "metadata": {},
   "outputs": [
    {
     "name": "stdout",
     "output_type": "stream",
     "text": [
      "INFO:tensorflow:Assets written to: C:\\Users\\lyral\\AppData\\Local\\Temp\\tmptzm51gg9\\assets\n"
     ]
    },
    {
     "name": "stderr",
     "output_type": "stream",
     "text": [
      "INFO:tensorflow:Assets written to: C:\\Users\\lyral\\AppData\\Local\\Temp\\tmptzm51gg9\\assets\n"
     ]
    },
    {
     "name": "stdout",
     "output_type": "stream",
     "text": [
      "✅ Saved gacha_model.tflite\n"
     ]
    }
   ],
   "source": [
    "import tensorflow as tf\n",
    "\n",
    "# Load model keras\n",
    "model = tf.keras.models.load_model(\"gacha_model.keras\")\n",
    "\n",
    "# Convert sang TFLite\n",
    "converter = tf.lite.TFLiteConverter.from_keras_model(model)\n",
    "tflite_model = converter.convert()\n",
    "\n",
    "# Lưu ra file\n",
    "with open(\"gacha_model.tflite\", \"wb\") as f:\n",
    "    f.write(tflite_model)\n",
    "\n",
    "print(\"✅ Saved gacha_model.tflite\")\n"
   ]
  },
  {
   "cell_type": "code",
   "execution_count": null,
   "id": "fb140f40-9ff7-4f8f-a7f6-074abb2a1f95",
   "metadata": {},
   "outputs": [],
   "source": []
  }
 ],
 "metadata": {
  "kernelspec": {
   "display_name": "Python 3 (ipykernel)",
   "language": "python",
   "name": "python3"
  },
  "language_info": {
   "codemirror_mode": {
    "name": "ipython",
    "version": 3
   },
   "file_extension": ".py",
   "mimetype": "text/x-python",
   "name": "python",
   "nbconvert_exporter": "python",
   "pygments_lexer": "ipython3",
   "version": "3.10.18"
  }
 },
 "nbformat": 4,
 "nbformat_minor": 5
}
